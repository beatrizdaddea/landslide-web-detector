{
  "nbformat": 4,
  "nbformat_minor": 0,
  "metadata": {
    "colab": {
      "provenance": [],
      "gpuType": "T4"
    },
    "kernelspec": {
      "name": "python3",
      "display_name": "Python 3"
    },
    "language_info": {
      "name": "python"
    },
    "accelerator": "GPU"
  },
  "cells": [
    {
      "cell_type": "code",
      "execution_count": null,
      "metadata": {
        "id": "DUJuCRIx5vL9"
      },
      "outputs": [],
      "source": [
        "!pip install ultralytics\n",
        "!pip install yolov8\n",
        "!pip install roboflow"
      ]
    },
    {
      "cell_type": "code",
      "source": [
        "# Importar as bibliotecas necessárias\n",
        "from roboflow import Roboflow\n",
        "\n",
        "def import_dataset():\n",
        "    # Configurar a chave da API do Roboflow\n",
        "    rf = Roboflow(api_key=\"zW0D9OODuFlxgjHFbdD8\")\n",
        "\n",
        "    # Definir o projeto e versão do Roboflow\n",
        "    project = rf.workspace(\"pengfei-xie\").project(\"guizhou\")\n",
        "    version = project.version(4)\n",
        "    dataset = version.download(\"yolov8\")\n",
        "\n",
        "    return dataset.location\n",
        "\n",
        "if __name__ == \"__main__\":\n",
        "    dataset_location = import_dataset()"
      ],
      "metadata": {
        "id": "mOzL-HGH58GZ"
      },
      "execution_count": null,
      "outputs": []
    },
    {
      "cell_type": "code",
      "source": [
        "# Importar as bibliotecas necessárias\n",
        "from ultralytics import YOLO\n",
        "\n",
        "def training(dataset_location):\n",
        "    # Treinar o modelo YOLOv8\n",
        "    !yolo detect train data={dataset_location}/data.yaml model=yolov8n.yaml epochs=50 imgsz=640\n",
        "\n",
        "if __name__ == \"__main__\":\n",
        "    # Chamar a função de treinamento e validação\n",
        "    training(dataset_location)"
      ],
      "metadata": {
        "id": "oCj-q6Ja6Tuh"
      },
      "execution_count": null,
      "outputs": []
    },
    {
      "cell_type": "code",
      "source": [
        "# Importar as bibliotecas necessárias\n",
        "from ultralytics import YOLO\n",
        "\n",
        "def validation(dataset_location):\n",
        "    # Validar o modelo YOLOv8\n",
        "    !yolo detect val model=/content/runs/detect/train/weights/best.pt data={dataset_location}/data.yaml\n",
        "\n",
        "if __name__ == \"__main__\":\n",
        "    # Chamar a função de treinamento e validação\n",
        "    validation(dataset_location)"
      ],
      "metadata": {
        "id": "s-oK7chI6vm1"
      },
      "execution_count": null,
      "outputs": []
    },
    {
      "cell_type": "code",
      "source": [
        "# Importar as bibliotecas necessárias\n",
        "import glob\n",
        "from IPython.display import Image, display\n",
        "from ultralytics import YOLO\n",
        "\n",
        "# Função para predição\n",
        "def prediction():\n",
        "    # Carregar o modelo treinado e fazer as predições\n",
        "    !yolo detect predict model=/content/runs/detect/train/weights/best.pt source={dataset_location}/test/images save=True\n",
        "\n",
        "    # Exibir as previsões\n",
        "    for image_path in glob.glob(f'/content/runs/detect/predict/*.jpg'):\n",
        "        display(Image(filename=image_path, height=600))\n",
        "        print(\"\\n\")\n",
        "\n",
        "if __name__ == \"__main__\":\n",
        "    # Chamar a função de predição\n",
        "    prediction()"
      ],
      "metadata": {
        "id": "cqaLzanY9suK"
      },
      "execution_count": null,
      "outputs": []
    }
  ]
}