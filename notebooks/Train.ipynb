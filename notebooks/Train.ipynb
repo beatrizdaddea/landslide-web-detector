{
  "cells": [
    {
      "cell_type": "code",
      "execution_count": null,
      "metadata": {
        "id": "DUJuCRIx5vL9"
      },
      "outputs": [],
      "source": [
        "!pip install ultralytics\n",
        "!pip install yolov8\n",
        "!pip install roboflow"
      ]
    },
    {
      "cell_type": "code",
      "execution_count": null,
      "metadata": {
        "id": "mOzL-HGH58GZ"
      },
      "outputs": [],
      "source": [
        "# Importar as bibliotecas necessárias\n",
        "from roboflow import Roboflow\n",
        "\n",
        "def import_dataset():\n",
        "    # Configurar a chave da API do Roboflow\n",
        "    rf = Roboflow(api_key=\"zW0D9OODuFlxgjHFbdD8\")\n",
        "\n",
        "    # Definir o projeto e versão do Roboflow\n",
        "    project = rf.workspace(\"amish-kumar\").project(\"landslide_segmentation\")\n",
        "    version = project.version(6)\n",
        "    dataset = version.download(\"yolov8\")\n",
        "\n",
        "    return dataset.location\n",
        "\n",
        "if __name__ == \"__main__\":\n",
        "    dataset_location = import_dataset()"
      ]
    },
    {
      "cell_type": "code",
      "execution_count": null,
      "metadata": {
        "id": "oCj-q6Ja6Tuh"
      },
      "outputs": [],
      "source": [
        "# Importar as bibliotecas necessárias\n",
        "from ultralytics import YOLO\n",
        "\n",
        "def training(dataset_location):\n",
        "    # Treinar o modelo YOLOv8\n",
        "    !yolo segment train data={dataset_location}/data.yaml model=yolov8n-seg.yaml epochs=300 imgsz=640\n",
        "\n",
        "if __name__ == \"__main__\":\n",
        "    # Chamar a função de treinamento e validação\n",
        "    training(dataset_location)"
      ]
    },
    {
      "cell_type": "code",
      "execution_count": null,
      "metadata": {
        "id": "s-oK7chI6vm1"
      },
      "outputs": [],
      "source": [
        "# Importar as bibliotecas necessárias\n",
        "from ultralytics import YOLO\n",
        "\n",
        "def validation(dataset_location):\n",
        "    # Validar o modelo YOLOv8\n",
        "    !yolo segment val model=/content/runs/segment/train/weights/best.pt data={dataset_location}/data.yaml\n",
        "\n",
        "if __name__ == \"__main__\":\n",
        "    # Chamar a função de treinamento e validação\n",
        "    validation(dataset_location)"
      ]
    },
    {
      "cell_type": "code",
      "execution_count": null,
      "metadata": {
        "colab": {
          "background_save": true
        },
        "id": "mTgLm1FFCK4e"
      },
      "outputs": [],
      "source": [
        "# Importar as bibliotecas necessárias\n",
        "import glob\n",
        "from IPython.display import Image, display\n",
        "from ultralytics import YOLO\n",
        "\n",
        "# Função para predição\n",
        "def prediction():\n",
        "    # Carregar o modelo treinado e fazer as predições\n",
        "    !yolo segment predict model=/content/runs/segment/train/weights/best.pt source={dataset_location}/test/images save=True\n",
        "\n",
        "    # Exibir as previsões\n",
        "    for image_path in glob.glob(f'/content/runs/segment/predict/*.jpg'):\n",
        "        display(Image(filename=image_path, height=600))\n",
        "        print(\"\\n\")\n",
        "\n",
        "if __name__ == \"__main__\":\n",
        "    # Chamar a função de predição\n",
        "    prediction()"
      ]
    }
  ],
  "metadata": {
    "accelerator": "GPU",
    "colab": {
      "gpuType": "T4",
      "provenance": []
    },
    "kernelspec": {
      "display_name": "Python 3",
      "name": "python3"
    },
    "language_info": {
      "name": "python"
    }
  },
  "nbformat": 4,
  "nbformat_minor": 0
}